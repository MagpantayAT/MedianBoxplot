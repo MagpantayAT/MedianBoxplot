{
 "cells": [
  {
   "cell_type": "code",
   "execution_count": null,
   "metadata": {},
   "outputs": [],
   "source": [
    "import pandas as pd\n",
    "import numpy as np\n",
    "import cv2\n",
    "# import tifffile as tiff\n",
    "\n",
    "# global varuables\n",
    "w = h = 9\n",
    "\n",
    "data = {'class' : ['veg', 'built', 'wat']}\n",
    "dt = pd.DataFrame(data)"
   ]
  },
  {
   "cell_type": "markdown",
   "metadata": {},
   "source": [
    "### Functions"
   ]
  },
  {
   "cell_type": "code",
   "execution_count": null,
   "metadata": {},
   "outputs": [],
   "source": [
    "#\n",
    "# Reads band images and index images\n",
    "#\n",
    "def read_img(site, _s):\n",
    "    data = []\n",
    "\n",
    "    for i in range(1, 8):\n",
    "        if _s == 'B':\n",
    "            filename = \"input/\"+ site +\"/B\" + str(i) + \"_250_B.tif\"\n",
    "        else:\n",
    "            filename = \"input/\"+ site +\"/B\" + str(i) + \"_250.tif\"\n",
    "            \n",
    "        img = cv2.imread(filename, cv2.IMREAD_GRAYSCALE)\n",
    "        data.append(img)\n",
    "\n",
    "    index = [\"NDVI.tif\", \"NDWI.tif\", \"NDBI.tif\"]\n",
    "    for i in index:\n",
    "        filename = \"input/\"+ site +\"/\" + i\n",
    "        img = cv2.imread(filename, cv2.IMREAD_GRAYSCALE)\n",
    "        data.append(img)\n",
    "\n",
    "#     cv2.imshow(\"Image\", data[9])\n",
    "#     cv2.waitKey(0)\n",
    "    \n",
    "    return data\n",
    "\n",
    "#\n",
    "# Crop and Compute\n",
    "#\n",
    "def crop_calc(_img, _pts):\n",
    "    median = []\n",
    "    std = []\n",
    "\n",
    "    # iterate over rows with iterrows()\n",
    "    for index, row in _pts.iterrows():\n",
    "        # print(index, row['X'], row['Y'])\n",
    "        \n",
    "        # move to upper right corner\n",
    "        x = row['X'] - 4\n",
    "        y = row['Y'] - 4\n",
    "        \n",
    "        crop_img = _img[y:y+h, x:x+w]\n",
    "        \n",
    "        #cv2.imshow(\"Image\", crop_img)\n",
    "        #cv2.waitKey(0)\n",
    "        \n",
    "        median.append(np.median(crop_img))\n",
    "        std.append(np.std(crop_img))\n",
    "            \n",
    "    return [median, std]\n",
    "\n",
    "#\n",
    "# Computes IQR\n",
    "#\n",
    "\n",
    "def _iqr(q1, q3, lu, extreme):\n",
    "    iqr = abs(q3 - q1)\n",
    "    result = 0\n",
    "    \n",
    "    if lu == 0: # lower\n",
    "        result = q1 - (1.5 * iqr)\n",
    "        if result < extreme : # if propable is less than extreme\n",
    "            result = extreme\n",
    "        \n",
    "    if lu == 1: # upper\n",
    "        result = q3 + (1.5 * iqr)\n",
    "        if result > extreme : # if propable is greater than extreme\n",
    "            result = extreme\n",
    "    \n",
    "        \n",
    "    return result\n",
    "    \n"
   ]
  },
  {
   "cell_type": "code",
   "execution_count": 3,
   "metadata": {},
   "outputs": [],
   "source": [
    "def box_plot(_stat, _img, _bndIdx):\n",
    "    \n",
    "    filename = 'output/veg_med_std_'\n",
    "    if(_bndIdx.isdigit()):\n",
    "        filename += 'b' + _bndIdx\n",
    "    else:\n",
    "        filename += _bndIdx\n",
    "    filename += '.xlsx'        \n",
    "    \n",
    "    v_res = crop_calc(_img, v_pts)\n",
    "    b_res = crop_calc(_img, b_pts)\n",
    "    w_res = crop_calc(_img, w_pts)\n",
    "    \n",
    "    '''\n",
    "    pd.DataFrame(v_res).to_excel(filename)\n",
    "    pd.DataFrame(b_res).to_excel(filename)\n",
    "    pd.DataFrame(w_res).to_excel(filename)\n",
    "    '''\n",
    "    \n",
    "    # median = 0, std = 1\n",
    "    folder =  \"median/\" if _stat == 0 else \"std/\"\n",
    "    _v = v_res[_stat]\n",
    "    _b = b_res[_stat]\n",
    "    _w = w_res[_stat]\n",
    "\n",
    "    res = [_v, _b, _w]\n",
    "    res = pd.DataFrame(res)\n",
    "    result = res.T\n",
    "    # print(result.head())\n",
    "\n",
    "    result = result.values.tolist()\n",
    "    \n",
    "    title = \"median \" if _stat == 0 else \"std \"\n",
    "    title += str(h) + \"x\" + str(w) + \" \"\n",
    "    title += \"band \" + _bndIdx if _bndIdx.isdigit() else _bndIdx \n",
    "\n",
    "    df = pd.DataFrame(result, columns=['Veg', 'Built', 'Water'])\n",
    "    boxplot = df.boxplot(column=['Veg', 'Built', 'Water'])\n",
    "\n",
    "    fig = boxplot.get_figure()\n",
    "    fig.suptitle(title)\n",
    "    \n",
    "    # Median\n",
    "    bmed = \"b\" + _bndIdx if _bndIdx.isdigit() else _bndIdx\n",
    "    bmed += '_median';\n",
    "    \n",
    "    # Normal MIN\n",
    "    bmin = \"b\" + _bndIdx if _bndIdx.isdigit() else _bndIdx\n",
    "    bmin += '_min';\n",
    "    # Normal MAX\n",
    "    bmax = \"b\" + _bndIdx if _bndIdx.isdigit() else _bndIdx\n",
    "    bmax += '_max';\n",
    "    # Probable MIN\n",
    "    bmin_p = \"b\" + _bndIdx if _bndIdx.isdigit() else _bndIdx\n",
    "    bmin_p += '_min_p';\n",
    "    # Probable MAX\n",
    "    bmax_p = \"b\" + _bndIdx if _bndIdx.isdigit() else _bndIdx\n",
    "    bmax_p += '_max_p';\n",
    "    # Extreme MIN\n",
    "    bmin_e = \"b\" + _bndIdx if _bndIdx.isdigit() else _bndIdx\n",
    "    bmin_e += '_min_e';\n",
    "    # Extreme MXA\n",
    "    bmax_e = \"b\" + _bndIdx if _bndIdx.isdigit() else _bndIdx\n",
    "    bmax_e += '_max_e';\n",
    "    \n",
    "    q1 = []\n",
    "    q1.append(df['Veg'].quantile(.25))\n",
    "    q1.append(df['Built'].quantile(.25))\n",
    "    q1.append(df['Water'].quantile(.25))\n",
    "    \n",
    "    q3 = []\n",
    "    q3.append(df['Veg'].quantile(.75))\n",
    "    q3.append(df['Built'].quantile(.75))\n",
    "    q3.append(df['Water'].quantile(.75))\n",
    "    \n",
    "    p_min = []\n",
    "    p_min.append(_iqr(q1[0], q3[0], 0, df['Veg'].min()))\n",
    "    p_min.append(_iqr(q1[1], q3[1], 0, df['Built'].min()))\n",
    "    p_min.append(_iqr(q1[2], q3[2], 0, df['Water'].min()))\n",
    "    \n",
    "    p_max = []\n",
    "    p_max.append(_iqr(q1[0], q3[0], 1, df['Veg'].max()))\n",
    "    p_max.append(_iqr(q1[1], q3[1], 1, df['Built'].max()))\n",
    "    p_max.append(_iqr(q1[2], q3[2], 1, df['Water'].max()))\n",
    "    \n",
    "    e_min = []\n",
    "    e_min.append(df['Veg'].min())\n",
    "    e_min.append(df['Built'].min())\n",
    "    e_min.append(df['Water'].min())\n",
    "    \n",
    "    e_max = []\n",
    "    e_max.append(df['Veg'].max())\n",
    "    e_max.append(df['Built'].max())\n",
    "    e_max.append(df['Water'].max())\n",
    "    \n",
    "    med = []\n",
    "    med.append(df['Veg'].median())\n",
    "    med.append(df['Built'].median())\n",
    "    med.append(df['Water'].median())\n",
    "    \n",
    "    min_max = { bmed : med,\n",
    "                bmin : q1, bmax : q3,\n",
    "                bmin_p: p_min, bmax_p: p_max,\n",
    "                bmin_e: e_min, bmax_e: e_max\n",
    "              }\n",
    "    \n",
    "    dt2 = pd.DataFrame(min_max)\n",
    "    return dt2\n"
   ]
  },
  {
   "cell_type": "code",
   "execution_count": 4,
   "metadata": {},
   "outputs": [],
   "source": [
    "\n",
    "v_pts = pd.read_excel('input/site-b.xlsx', sheet_name = 'Vegetation')\n",
    "b_pts = pd.read_excel('input/site-b.xlsx', sheet_name = 'Built-up')\n",
    "w_pts = pd.read_excel('input/site-b.xlsx', sheet_name = 'Water')\n",
    "\n",
    "i_img = read_img(\"Landsat8-B\", 'B')"
   ]
  },
  {
   "cell_type": "markdown",
   "metadata": {},
   "source": [
    "# MEDIAN"
   ]
  },
  {
   "cell_type": "code",
   "execution_count": 5,
   "metadata": {},
   "outputs": [
    {
     "data": {
      "image/png": "[encoded data removed]",
      "text/plain": [
       "<Figure size 432x288 with 1 Axes>"
      ]
     },
     "metadata": {
      "needs_background": "light"
     },
     "output_type": "display_data"
    }
   ],
   "source": [
    "# median  band 1\n",
    "dt2 = box_plot(0, i_img[0], \"1\")"
   ]
  },
  {
   "cell_type": "code",
   "execution_count": 6,
   "metadata": {},
   "outputs": [
    {
     "data": {
      "text/html": [
       "<div>\n",
       "<style scoped>\n",
       "    .dataframe tbody tr th:only-of-type {\n",
       "        vertical-align: middle;\n",
       "    }\n",
       "\n",
       "    .dataframe tbody tr th {\n",
       "        vertical-align: top;\n",
       "    }\n",
       "\n",
       "    .dataframe thead th {\n",
       "        text-align: right;\n",
       "    }\n",
       "</style>\n",
       "<table border=\"1\" class=\"dataframe\">\n",
       "  <thead>\n",
       "    <tr style=\"text-align: right;\">\n",
       "      <th></th>\n",
       "      <th>class</th>\n",
       "      <th>b1_median</th>\n",
       "      <th>b1_min</th>\n",
       "      <th>b1_max</th>\n",
       "      <th>b1_min_p</th>\n",
       "      <th>b1_max_p</th>\n",
       "      <th>b1_min_e</th>\n",
       "      <th>b1_max_e</th>\n",
       "    </tr>\n",
       "  </thead>\n",
       "  <tbody>\n",
       "    <tr>\n",
       "      <th>0</th>\n",
       "      <td>veg</td>\n",
       "      <td>38.0</td>\n",
       "      <td>37.0</td>\n",
       "      <td>38.0</td>\n",
       "      <td>37.0</td>\n",
       "      <td>39.0</td>\n",
       "      <td>37.0</td>\n",
       "      <td>39.0</td>\n",
       "    </tr>\n",
       "    <tr>\n",
       "      <th>1</th>\n",
       "      <td>built</td>\n",
       "      <td>39.0</td>\n",
       "      <td>39.0</td>\n",
       "      <td>40.0</td>\n",
       "      <td>37.5</td>\n",
       "      <td>41.5</td>\n",
       "      <td>37.0</td>\n",
       "      <td>42.0</td>\n",
       "    </tr>\n",
       "    <tr>\n",
       "      <th>2</th>\n",
       "      <td>wat</td>\n",
       "      <td>39.0</td>\n",
       "      <td>39.0</td>\n",
       "      <td>39.0</td>\n",
       "      <td>39.0</td>\n",
       "      <td>39.0</td>\n",
       "      <td>38.0</td>\n",
       "      <td>39.0</td>\n",
       "    </tr>\n",
       "  </tbody>\n",
       "</table>\n",
       "</div>"
      ],
      "text/plain": [
       "   class  b1_median  b1_min  b1_max  b1_min_p  b1_max_p  b1_min_e  b1_max_e\n",
       "0    veg       38.0    37.0    38.0      37.0      39.0      37.0      39.0\n",
       "1  built       39.0    39.0    40.0      37.5      41.5      37.0      42.0\n",
       "2    wat       39.0    39.0    39.0      39.0      39.0      38.0      39.0"
      ]
     },
     "execution_count": 6,
     "metadata": {},
     "output_type": "execute_result"
    }
   ],
   "source": [
    "dt = pd.concat([dt, dt2], axis = 1)\n",
    "# dt.to_excel(\"output/median-table-b.xlsx\")\n",
    "dt"
   ]
  },
  {
   "cell_type": "code",
   "execution_count": 7,
   "metadata": {},
   "outputs": [
    {
     "data": {
      "image/png": "[encoded data removed]",
      "text/plain": [
       "<Figure size 432x288 with 1 Axes>"
      ]
     },
     "metadata": {
      "needs_background": "light"
     },
     "output_type": "display_data"
    }
   ],
   "source": [
    "# median  band 2\n",
    "dt2 = box_plot(0, i_img[1], \"2\")\n",
    "dt = pd.concat([dt, dt2], axis = 1)"
   ]
  },
  {
   "cell_type": "code",
   "execution_count": 8,
   "metadata": {},
   "outputs": [
    {
     "data": {
      "image/png": "[encoded data removed]",
      "text/plain": [
       "<Figure size 432x288 with 1 Axes>"
      ]
     },
     "metadata": {
      "needs_background": "light"
     },
     "output_type": "display_data"
    }
   ],
   "source": [
    "# median  band 3\n",
    "dt2 = box_plot(0, i_img[2], \"3\")\n",
    "dt = pd.concat([dt, dt2], axis = 1)"
   ]
  },
  {
   "cell_type": "code",
   "execution_count": 9,
   "metadata": {},
   "outputs": [
    {
     "data": {
      "image/png": "[encoded data removed]",
      "text/plain": [
       "<Figure size 432x288 with 1 Axes>"
      ]
     },
     "metadata": {
      "needs_background": "light"
     },
     "output_type": "display_data"
    }
   ],
   "source": [
    "# median  band 4\n",
    "dt2 = box_plot(0, i_img[3], \"4\")\n",
    "dt = pd.concat([dt, dt2], axis = 1)"
   ]
  },
  {
   "cell_type": "code",
   "execution_count": 10,
   "metadata": {},
   "outputs": [
    {
     "data": {
      "image/png": "[encoded data removed]",
      "text/plain": [
       "<Figure size 432x288 with 1 Axes>"
      ]
     },
     "metadata": {
      "needs_background": "light"
     },
     "output_type": "display_data"
    }
   ],
   "source": [
    "# median  band 5\n",
    "dt2 = box_plot(0, i_img[4], \"5\")\n",
    "dt = pd.concat([dt, dt2], axis = 1)"
   ]
  },
  {
   "cell_type": "code",
   "execution_count": 11,
   "metadata": {},
   "outputs": [
    {
     "data": {
      "image/png": "[encoded data removed]",
      "text/plain": [
       "<Figure size 432x288 with 1 Axes>"
      ]
     },
     "metadata": {
      "needs_background": "light"
     },
     "output_type": "display_data"
    }
   ],
   "source": [
    "# median  band 6\n",
    "dt2 = box_plot(0, i_img[5], \"6\")\n",
    "dt = pd.concat([dt, dt2], axis = 1)"
   ]
  },
  {
   "cell_type": "code",
   "execution_count": 12,
   "metadata": {},
   "outputs": [
    {
     "data": {
      "image/png": "[encoded data removed]",
      "text/plain": [
       "<Figure size 432x288 with 1 Axes>"
      ]
     },
     "metadata": {
      "needs_background": "light"
     },
     "output_type": "display_data"
    }
   ],
   "source": [
    "# median  band 7\n",
    "dt2 = box_plot(0, i_img[6], \"7\")\n",
    "dt = pd.concat([dt, dt2], axis = 1)"
   ]
  },
  {
   "cell_type": "code",
   "execution_count": 13,
   "metadata": {},
   "outputs": [
    {
     "data": {
      "image/png": "[encoded data removed]",
      "text/plain": [
       "<Figure size 432x288 with 1 Axes>"
      ]
     },
     "metadata": {
      "needs_background": "light"
     },
     "output_type": "display_data"
    }
   ],
   "source": [
    "# median  ndvi\n",
    "dt2 = box_plot(0, i_img[7], \"ndvi\")\n",
    "dt = pd.concat([dt, dt2], axis = 1)"
   ]
  },
  {
   "cell_type": "code",
   "execution_count": 14,
   "metadata": {},
   "outputs": [
    {
     "data": {
      "image/png": "[encoded data removed]",
      "text/plain": [
       "<Figure size 432x288 with 1 Axes>"
      ]
     },
     "metadata": {
      "needs_background": "light"
     },
     "output_type": "display_data"
    }
   ],
   "source": [
    "# median  ndwi\n",
    "dt2 = box_plot(0, i_img[8], \"ndwi\")\n",
    "dt = pd.concat([dt, dt2], axis = 1)"
   ]
  },
  {
   "cell_type": "code",
   "execution_count": 15,
   "metadata": {},
   "outputs": [
    {
     "data": {
      "image/png": "[encoded data removed]",
      "text/plain": [
       "<Figure size 432x288 with 1 Axes>"
      ]
     },
     "metadata": {
      "needs_background": "light"
     },
     "output_type": "display_data"
    }
   ],
   "source": [
    "# median  ndbi\n",
    "dt2 = box_plot(0, i_img[9], \"ndbi\")\n",
    "dt = pd.concat([dt, dt2], axis = 1)"
   ]
  },
  {
   "cell_type": "code",
   "execution_count": 16,
   "metadata": {},
   "outputs": [
    {
     "data": {
      "text/html": [
       "<div>\n",
       "<style scoped>\n",
       "    .dataframe tbody tr th:only-of-type {\n",
       "        vertical-align: middle;\n",
       "    }\n",
       "\n",
       "    .dataframe tbody tr th {\n",
       "        vertical-align: top;\n",
       "    }\n",
       "\n",
       "    .dataframe thead th {\n",
       "        text-align: right;\n",
       "    }\n",
       "</style>\n",
       "<table border=\"1\" class=\"dataframe\">\n",
       "  <thead>\n",
       "    <tr style=\"text-align: right;\">\n",
       "      <th></th>\n",
       "      <th>class</th>\n",
       "      <th>b1_median</th>\n",
       "      <th>b1_min</th>\n",
       "      <th>b1_max</th>\n",
       "      <th>b1_min_p</th>\n",
       "      <th>b1_max_p</th>\n",
       "      <th>b1_min_e</th>\n",
       "      <th>b1_max_e</th>\n",
       "      <th>b2_median</th>\n",
       "      <th>b2_min</th>\n",
       "      <th>...</th>\n",
       "      <th>ndwi_max_p</th>\n",
       "      <th>ndwi_min_e</th>\n",
       "      <th>ndwi_max_e</th>\n",
       "      <th>ndbi_median</th>\n",
       "      <th>ndbi_min</th>\n",
       "      <th>ndbi_max</th>\n",
       "      <th>ndbi_min_p</th>\n",
       "      <th>ndbi_max_p</th>\n",
       "      <th>ndbi_min_e</th>\n",
       "      <th>ndbi_max_e</th>\n",
       "    </tr>\n",
       "  </thead>\n",
       "  <tbody>\n",
       "    <tr>\n",
       "      <th>0</th>\n",
       "      <td>veg</td>\n",
       "      <td>38.0</td>\n",
       "      <td>37.0</td>\n",
       "      <td>38.0</td>\n",
       "      <td>37.0</td>\n",
       "      <td>39.0</td>\n",
       "      <td>37.0</td>\n",
       "      <td>39.0</td>\n",
       "      <td>35.0</td>\n",
       "      <td>34.0</td>\n",
       "      <td>...</td>\n",
       "      <td>118.5</td>\n",
       "      <td>34.0</td>\n",
       "      <td>201.0</td>\n",
       "      <td>79.0</td>\n",
       "      <td>71.00</td>\n",
       "      <td>90.0</td>\n",
       "      <td>56.000</td>\n",
       "      <td>118.5</td>\n",
       "      <td>56.0</td>\n",
       "      <td>153.0</td>\n",
       "    </tr>\n",
       "    <tr>\n",
       "      <th>1</th>\n",
       "      <td>built</td>\n",
       "      <td>39.0</td>\n",
       "      <td>39.0</td>\n",
       "      <td>40.0</td>\n",
       "      <td>37.5</td>\n",
       "      <td>41.5</td>\n",
       "      <td>37.0</td>\n",
       "      <td>42.0</td>\n",
       "      <td>37.0</td>\n",
       "      <td>36.0</td>\n",
       "      <td>...</td>\n",
       "      <td>107.0</td>\n",
       "      <td>63.0</td>\n",
       "      <td>134.0</td>\n",
       "      <td>148.0</td>\n",
       "      <td>133.00</td>\n",
       "      <td>157.0</td>\n",
       "      <td>97.000</td>\n",
       "      <td>171.0</td>\n",
       "      <td>90.0</td>\n",
       "      <td>171.0</td>\n",
       "    </tr>\n",
       "    <tr>\n",
       "      <th>2</th>\n",
       "      <td>wat</td>\n",
       "      <td>39.0</td>\n",
       "      <td>39.0</td>\n",
       "      <td>39.0</td>\n",
       "      <td>39.0</td>\n",
       "      <td>39.0</td>\n",
       "      <td>38.0</td>\n",
       "      <td>39.0</td>\n",
       "      <td>36.0</td>\n",
       "      <td>36.0</td>\n",
       "      <td>...</td>\n",
       "      <td>243.0</td>\n",
       "      <td>162.0</td>\n",
       "      <td>243.0</td>\n",
       "      <td>133.0</td>\n",
       "      <td>129.75</td>\n",
       "      <td>133.0</td>\n",
       "      <td>124.875</td>\n",
       "      <td>133.0</td>\n",
       "      <td>121.0</td>\n",
       "      <td>133.0</td>\n",
       "    </tr>\n",
       "  </tbody>\n",
       "</table>\n",
       "<p>3 rows × 71 columns</p>\n",
       "</div>"
      ],
      "text/plain": [
       "   class  b1_median  b1_min  b1_max  b1_min_p  b1_max_p  b1_min_e  b1_max_e  \\\n",
       "0    veg       38.0    37.0    38.0      37.0      39.0      37.0      39.0   \n",
       "1  built       39.0    39.0    40.0      37.5      41.5      37.0      42.0   \n",
       "2    wat       39.0    39.0    39.0      39.0      39.0      38.0      39.0   \n",
       "\n",
       "   b2_median  b2_min  ...  ndwi_max_p  ndwi_min_e  ndwi_max_e  ndbi_median  \\\n",
       "0       35.0    34.0  ...       118.5        34.0       201.0         79.0   \n",
       "1       37.0    36.0  ...       107.0        63.0       134.0        148.0   \n",
       "2       36.0    36.0  ...       243.0       162.0       243.0        133.0   \n",
       "\n",
       "   ndbi_min  ndbi_max  ndbi_min_p  ndbi_max_p  ndbi_min_e  ndbi_max_e  \n",
       "0     71.00      90.0      56.000       118.5        56.0       153.0  \n",
       "1    133.00     157.0      97.000       171.0        90.0       171.0  \n",
       "2    129.75     133.0     124.875       133.0       121.0       133.0  \n",
       "\n",
       "[3 rows x 71 columns]"
      ]
     },
     "execution_count": 16,
     "metadata": {},
     "output_type": "execute_result"
    }
   ],
   "source": [
    "#dt.to_excel(\"output/medians_tr_b.xlsx\")\n",
    "dt"
   ]
  },
  {
   "cell_type": "markdown",
   "metadata": {},
   "source": [
    "### Classify Reference Points based on Median Scoring"
   ]
  },
  {
   "cell_type": "code",
   "execution_count": 17,
   "metadata": {},
   "outputs": [
    {
     "name": "stdout",
     "output_type": "stream",
     "text": [
      "median 38.0\n",
      "> 1 pts 14 4 1\n",
      "median 35.0\n",
      "> 2 pts 14 4 -14\n",
      "median 32.0\n",
      "> 3 pts 14 1 -14\n",
      "median 27.0\n",
      "> 4 pts 14 -14 -14\n",
      "median 24.0\n",
      "> 5 pts -14 -14 14\n",
      "median 21.0\n",
      "> 6 pts -14 -14 14\n",
      "median 21.0\n",
      "> 7 pts 1 -14 14\n",
      "median 41.0\n",
      "> ndvi pts -14 -14 1\n",
      "median 231.0\n",
      "> ndwi pts -14 -14 14\n",
      "median 138.0\n",
      "> ndbi pts 1 14 -14\n",
      "2 -61 2\n"
     ]
    }
   ],
   "source": [
    "refb_pts = pd.read_excel('input/site-a.xlsx', sheet_name = 'test')\n",
    "t_img = read_img(\"Landsat8-A\", 'A')\n",
    "\n",
    "refb_pts['z'] = 0\n",
    "\n",
    "#\t// TRUTH VALUES:\n",
    "#\t// V\t(VEG, 255)\n",
    "#\t// M\t(MAN, 128)\n",
    "#\t// W\t(WAT, 0)\n",
    "\n",
    "\n",
    "def get_score(median, _bndIdx):\n",
    "    veg = built = wat = 0\n",
    "    \n",
    "    # Normal MIN\n",
    "    bmin = \"b\" + _bndIdx if _bndIdx.isdigit() else _bndIdx\n",
    "    bmin += '_min';\n",
    "    # Normal MAX\n",
    "    bmax = \"b\" + _bndIdx if _bndIdx.isdigit() else _bndIdx\n",
    "    bmax += '_max';\n",
    "    # Probable MIN\n",
    "    bmin_p = \"b\" + _bndIdx if _bndIdx.isdigit() else _bndIdx\n",
    "    bmin_p += '_min_p';\n",
    "    # Probable MAX\n",
    "    bmax_p = \"b\" + _bndIdx if _bndIdx.isdigit() else _bndIdx\n",
    "    bmax_p += '_max_p';\n",
    "    # Extreme MIN\n",
    "    bmin_e = \"b\" + _bndIdx if _bndIdx.isdigit() else _bndIdx\n",
    "    bmin_e += '_min_e';\n",
    "    # Extreme MXA\n",
    "    bmax_e = \"b\" + _bndIdx if _bndIdx.isdigit() else _bndIdx\n",
    "    bmax_e += '_max_e';\n",
    "    \n",
    "    #print(bmin, dt.iloc[0][bmin], bmax, dt.iloc[0][bmax], 'median', median)\n",
    "    #print(bmin, dt.iloc[1][bmin], bmax, dt.iloc[1][bmax], 'median', median)\n",
    "    #print(bmin, dt.iloc[2][bmin], bmax, dt.iloc[2][bmax], 'median', median)\n",
    "    \n",
    "    # Vegetation\n",
    "    if median >= dt.iloc[0][bmin] and median <= dt.iloc[0][bmax]:\n",
    "        veg += 14\n",
    "    elif median >= dt.iloc[0][bmin_p] and median <= dt.iloc[0][bmax_p]:\n",
    "        veg += 4\n",
    "    elif median >= dt.iloc[0][bmin_e] and median <= dt.iloc[0][bmax_e]:\n",
    "        veg += 1\n",
    "    else:\n",
    "        veg += -14\n",
    "\n",
    "    # Built-up\n",
    "    if median >= dt.iloc[1][bmin] and median <= dt.iloc[1][bmax]:\n",
    "        built += 14\n",
    "    elif median >= dt.iloc[1][bmin_p] and median <= dt.iloc[1][bmax_p]:\n",
    "        built += 4\n",
    "    elif median >= dt.iloc[1][bmin_e] and median <= dt.iloc[1][bmax_e]:\n",
    "        built += 1\n",
    "    else:\n",
    "        built += -14\n",
    "\n",
    "    # Water\n",
    "    if median >= dt.iloc[2][bmin] and median <= dt.iloc[2][bmax]:\n",
    "        wat += 14\n",
    "    elif median >= dt.iloc[2][bmin_p] and median <= dt.iloc[2][bmax_p]:\n",
    "        wat += 4\n",
    "    elif median >= dt.iloc[2][bmin_e] and median <= dt.iloc[2][bmax_e]:\n",
    "        wat += 1\n",
    "    else:\n",
    "        wat += -14\n",
    "\n",
    "    return [veg, built, wat]\n",
    "\n",
    "\n",
    "\n",
    "# water pixel tied with vegetation\n",
    "lookx = 145\n",
    "looky = 184\n",
    "    \n",
    "for index, row in refb_pts.iterrows():\n",
    "    x = row['X'] - 4\n",
    "    y = row['Y'] - 4\n",
    "    \n",
    "    # initialize score\n",
    "    _v = _b = _w = _c= 0\n",
    "    \n",
    "    for idx, img in enumerate(t_img, start = 1) :\n",
    "\n",
    "        crop_img = img[y:y+h, x:x+w]\n",
    "        median = np.median(crop_img)\n",
    "        \n",
    "        #print(x, y, median)\n",
    "        \n",
    "        if idx == 8:\n",
    "            _bndIdx = 'ndvi'\n",
    "        elif idx == 9:\n",
    "            _bndIdx = 'ndwi'\n",
    "        elif idx == 10:\n",
    "            _bndIdx = 'ndbi'\n",
    "        else:\n",
    "            _bndIdx = str(idx)\n",
    " \n",
    "        v_s, b_s, w_s = get_score(median, _bndIdx)\n",
    "\n",
    "        if(x+4 == lookx and y+4 == looky):\n",
    "            print('median', median)\n",
    "            print('>', _bndIdx, 'pts', v_s, b_s, w_s)\n",
    "            \n",
    "        _v += v_s\n",
    "        _b += b_s\n",
    "        _w += w_s\n",
    "        \n",
    "    if _v > _b and _v > _w:\n",
    "        _c = 255\n",
    "    elif _b > _v and _b > _w:\n",
    "        _c = 128\n",
    "    elif _w > _v and _w > _b:\n",
    "        _c = 0\n",
    "    else:\n",
    "        _c = -1\n",
    "    \n",
    "#     print(x, y, _c)\n",
    "    \n",
    "    if(x + 4 == lookx and y + 4 == looky):\n",
    "        print(_v, _b, _w)\n",
    "        \n",
    "    refb_pts['z'][index] = _c\n"
   ]
  },
  {
   "cell_type": "code",
   "execution_count": 18,
   "metadata": {},
   "outputs": [
    {
     "name": "stdout",
     "output_type": "stream",
     "text": [
      "   class  Veg  Built  Water  Other  total\n",
      "0    veg   61      0      0      0     61\n",
      "1  built    8    111      0      0    119\n",
      "2    wat    4      0     15      1     20\n"
     ]
    },
    {
     "data": {
      "text/html": [
       "<div>\n",
       "<style scoped>\n",
       "    .dataframe tbody tr th:only-of-type {\n",
       "        vertical-align: middle;\n",
       "    }\n",
       "\n",
       "    .dataframe tbody tr th {\n",
       "        vertical-align: top;\n",
       "    }\n",
       "\n",
       "    .dataframe thead th {\n",
       "        text-align: right;\n",
       "    }\n",
       "</style>\n",
       "<table border=\"1\" class=\"dataframe\">\n",
       "  <thead>\n",
       "    <tr style=\"text-align: right;\">\n",
       "      <th></th>\n",
       "      <th>X</th>\n",
       "      <th>Y</th>\n",
       "      <th>Class</th>\n",
       "      <th>z</th>\n",
       "    </tr>\n",
       "  </thead>\n",
       "  <tbody>\n",
       "    <tr>\n",
       "      <th>194</th>\n",
       "      <td>145</td>\n",
       "      <td>184</td>\n",
       "      <td>0</td>\n",
       "      <td>-1</td>\n",
       "    </tr>\n",
       "  </tbody>\n",
       "</table>\n",
       "</div>"
      ],
      "text/plain": [
       "       X    Y  Class  z\n",
       "194  145  184      0 -1"
      ]
     },
     "execution_count": 18,
     "metadata": {},
     "output_type": "execute_result"
    }
   ],
   "source": [
    "# Vegetation Class\n",
    "v_v = refb_pts[(refb_pts['Class'] == 255) & (refb_pts['z'] == 255)].count()[0]\n",
    "v_b = refb_pts[(refb_pts['Class'] == 255) & (refb_pts['z'] == 128)].count()[0]\n",
    "v_w = refb_pts[(refb_pts['Class'] == 255) & (refb_pts['z'] == 0)].count()[0]\n",
    "\n",
    "# Built-up Class\n",
    "b_v = refb_pts[(refb_pts['Class'] == 128) & (refb_pts['z'] == 255)].count()[0]\n",
    "b_b = refb_pts[(refb_pts['Class'] == 128) & (refb_pts['z'] == 128)].count()[0]\n",
    "b_w = refb_pts[(refb_pts['Class'] == 128) & (refb_pts['z'] == 0)].count()[0]\n",
    "\n",
    "# Water Class\n",
    "w_v = refb_pts[(refb_pts['Class'] == 0) & (refb_pts['z'] == 255)].count()[0]\n",
    "w_b = refb_pts[(refb_pts['Class'] == 0) & (refb_pts['z'] == 128)].count()[0]\n",
    "w_w = refb_pts[(refb_pts['Class'] == 0) & (refb_pts['z'] == 0)].count()[0]\n",
    "\n",
    "# other\n",
    "o_v = refb_pts[(refb_pts['Class'] == 255) & (refb_pts['z'] == -1)].count()[0]\n",
    "o_b = refb_pts[(refb_pts['Class'] == 128) & (refb_pts['z'] == -1)].count()[0]\n",
    "o_w = refb_pts[(refb_pts['Class'] == 0) & (refb_pts['z'] == -1)].count()[0]\n",
    "\n",
    "res = {'class' : ['veg', 'built', 'wat']}\n",
    "res = pd.DataFrame(res)\n",
    "\n",
    "res2 = pd.DataFrame({'Veg' : [v_v, b_v, w_v],\n",
    "                     'Built' : [v_b, b_b, w_b],\n",
    "                     'Water': [v_w, b_w, w_w],\n",
    "                     'Other' : [o_v, o_b, o_w] })\n",
    "\n",
    "res = pd.concat([res, res2], axis = 1)\n",
    "res['total'] = res.sum(axis=1)\n",
    "\n",
    "ans = res.sum(axis=0)\n",
    "print(res)\n",
    "res.to_excel(\"output/proposed-b.xlsx\")\n",
    "\n",
    "refb_pts[(refb_pts['z'] == -1)]\n",
    "\n",
    "# Note:\n",
    "# for tied score, just randomly select which class it will be classified.\n",
    "# For this, I classify it as veg\n"
   ]
  },
  {
   "cell_type": "code",
   "execution_count": null,
   "metadata": {},
   "outputs": [],
   "source": []
  }
 ],
 "metadata": {
  "kernelspec": {
   "display_name": "Python 3",
   "language": "python",
   "name": "python3"
  },
  "language_info": {
   "codemirror_mode": {
    "name": "ipython",
    "version": 3
   },
   "file_extension": ".py",
   "mimetype": "text/x-python",
   "name": "python",
   "nbconvert_exporter": "python",
   "pygments_lexer": "ipython3",
   "version": "3.8.5"
  }
 },
 "nbformat": 4,
 "nbformat_minor": 2
}
